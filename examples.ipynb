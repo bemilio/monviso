{
 "cells": [
  {
   "cell_type": "markdown",
   "id": "fe4a3448-24d0-4906-aa70-140d35170913",
   "metadata": {},
   "source": [
    "# Application examples for `monvi`"
   ]
  },
  {
   "cell_type": "code",
   "execution_count": 1,
   "id": "4911fa07-5eeb-46e7-8756-3d0353a21e2c",
   "metadata": {},
   "outputs": [],
   "source": [
    "import glob\n",
    "from pathlib import Path\n",
    "\n",
    "import numpy as np\n",
    "import scipy as sp\n",
    "import cvxpy as cp\n",
    "import matplotlib.pyplot as plt\n",
    "\n",
    "from monvi import VI"
   ]
  },
  {
   "cell_type": "code",
   "execution_count": 16,
   "id": "4df00aaf",
   "metadata": {},
   "outputs": [],
   "source": [
    "I = np.eye\n",
    "\n",
    "GOLDEN_RATIO = 0.5*(np.sqrt(5) + 1)\n",
    "\n",
    "def cases(x0, L, only={}, excluded={}):\n",
    "    cases_list = {\n",
    "        \"pg\": {\"x\": x0[0], \"step_size\": 2/L**2},\n",
    "        \"eg\": {\"x\": x0[0], \"step_size\": 1/L},\n",
    "        \"popov\": {\"x\": x0[0], \"y\": x0[1], \"step_size\": 1/(2*L)},\n",
    "        \"fbf\": {\"x\": x0[0], \"step_size\": 1/L},\n",
    "        \"frb\": {\"x_current\": x0[0], \"x_previous\": x0[1], \"step_size\": 1/(2*L)}, \n",
    "        \"prg\": {\"x_current\": x0[0], \"x_previous\": x0[1], \"step_size\": (np.sqrt(2)-1)/L},\n",
    "        \"eag\": {\"x\": x0[0], \"step_size\": (np.sqrt(2) - 1)/L},\n",
    "        \"arg\": {\"x_current\": x0[0], \"x_previous\": x0[1], \"step_size\": 1/(np.sqrt(3)*L)}, \n",
    "        \"fogda\": {\"x_current\": x0[0], \"x_previous\": x0[1], \"y\": x0[0], \"step_size\": 1/(4*L)},\n",
    "        \"graal\": {\"x\": x0[0], \"y\": x0[1], \"step_size\": GOLDEN_RATIO/(2*L)},\n",
    "        \"agraal\": {\"x_current\": x0[1], \"x_previous\": x0[0], \"step_size\": GOLDEN_RATIO/(2*L)},\n",
    "        \"hgraal_1\": {\"x_current\": x0[1], \"x_previous\": x0[0], \"step_size\": GOLDEN_RATIO/(2*L)}\n",
    "    }\n",
    "\n",
    "    only = cases_list.keys() if not only else only\n",
    "    return {\n",
    "        algorithm_name: cases_list[algorithm_name] for algorithm_name in only \\\n",
    "        if algorithm_name not in excluded\n",
    "    }\n",
    "\n",
    "def plot_results(log_path, fig_path, ylabel):\n",
    "    fig, ax = plt.subplots(figsize=(3.5, 0.9))\n",
    "    plt.yscale(\"log\")\n",
    "    for log_file in glob.glob(f\"{log_path}/*.log\"):\n",
    "        algorithm_name = Path(log_file).stem\n",
    "        eval_func_value = np.genfromtxt(\n",
    "            f\"{log_path}/{algorithm_name}.log\", delimiter=\",\", skip_header=1, \n",
    "            usecols=1\n",
    "        )\n",
    "        ax.plot(eval_func_value, lw=0.8, label=algorithm_name)\n",
    "\n",
    "    plt.legend(\n",
    "        bbox_to_anchor=(0, 1.02, 1, 0.2), loc=\"lower left\",\n",
    "        mode=\"expand\", borderaxespad=0, ncol=3\n",
    "    )\n",
    "    plt.grid(True, alpha=0.2)\n",
    "    ax.set_xlabel(\"Iterations ($k$)\")\n",
    "    ax.set_ylabel(ylabel)   \n",
    "    plt.savefig(fig_path, bbox_inches=\"tight\")\n",
    "    plt.show(block=False)\n",
    "\n",
    "# Plot settings\n",
    "latex_preamble = [\n",
    "    r'\\usepackage{amsfonts}',\n",
    "    r'\\usepackage{amssymb}',\n",
    "    r'\\usepackage{amsmath}',\n",
    "]\n",
    "\n",
    "plt.rcParams.update({\n",
    "    \"grid.alpha\": 0.5,\n",
    "    \"axes.spines.right\": False,\n",
    "    \"axes.spines.top\": False,\n",
    "    \"legend.frameon\": False,\n",
    "    \"ytick.labelsize\": 6,\n",
    "    \"xtick.labelsize\": 6,\n",
    "    \"font.size\": 8,\n",
    "    \"font.family\": \"sans\",\n",
    "    \"font.sans-serif\": [\"Computer Modern Roman\"],\n",
    "    \"text.usetex\": True,\n",
    "    \"text.latex.preamble\": \"\".join(latex_preamble)\n",
    "})"
   ]
  },
  {
   "cell_type": "markdown",
   "id": "d9b70628",
   "metadata": {},
   "source": [
    "## Feasibility Problem: finding a point belonging to the intersection of $M$ balls\n",
    "Let us consider $M$ balls in $\\mathbb{R}^n$, where the $i$-th ball of radius $r_i > 0$ centered in $\\mathbf{c}_i \\in \\mathbb{R}^n$ is given by $\\mathcal{B}_i(\\mathbf{c}_i, r_i) \\subset \\mathbb{R}^n$. We are intereseted in finding a point belonging to their itersection, i.e., we want to solve the following\n",
    "```math\n",
    "\\begin{equation}\n",
    "    \\text{find} \\ \\mathbf{x} \\ \\text{subject to} \\ \\mathbf{x} \\in \\bigcap_{i = 1}^M \\mathcal{B}_i(\\mathbf{c}_i, r_i) \\tag{1}\n",
    "\\end{equation}\n",
    "```\n",
    "It is straighforward to verify that the projection of a point onto $\\mathcal{B}_i(\\mathbf{c}_i,r_i)$ is evaluates as\n",
    "\\begin{equation}\n",
    "    \\mathsf{P}_i(\\mathbf{x}) := \\text{proj}_{\\mathcal{B}_i(\\mathbf{c}_i,r_i)}(\\mathbf{x}) = \n",
    "    \\begin{cases}\n",
    "        \\displaystyle r_i\\frac{\\mathbf{x} - \\mathbf{c}_i}{\\|\\mathbf{x} - \\mathbf{c}_i\\|} & \\text{if} \\ \\|\\mathbf{x} - \\mathbf{c}_i\\| > r_i \\\\\n",
    "        x & \\text{otherwise}\n",
    "    \\end{cases} \\tag{2}\n",
    "\\end{equation}\n",
    "Due to the non-expansiveness of the projection in $(2)$, one can find a solution for $(1)$ as the fixed point of the following iterate \n",
    "```math\n",
    "    \\begin{equation}\n",
    "        \\mathbf{x}_{k+1} = \\mathsf{T}(\\mathbf{x}_k) = \\frac{1}{M}\\sum_{i = 1}^M\\mathsf{P}_i(\\mathbf{x}_k) \\tag{3}\n",
    "    \\end{equation}\n",
    "```\n",
    "which result from the well-known Krasnoselskii-Mann iterate. By letting $F = \\mathsf{I} - \\mathsf{T}$, where $\\mathsf{I}$ denotes the identity operator, the fixed point for $(3)$ can be treated as the canonical VI. "
   ]
  },
  {
   "cell_type": "code",
   "execution_count": 7,
   "id": "94f8e6e5",
   "metadata": {},
   "outputs": [
    {
     "data": {
      "image/png": "[encoded data removed]",
      "text/plain": [
       "<Figure size 350x90 with 1 Axes>"
      ]
     },
     "metadata": {},
     "output_type": "display_data"
    }
   ],
   "source": [
    "np.random.seed(2024)\n",
    "\n",
    "# Problem data\n",
    "n, M = 1000, 2000\n",
    "c = np.random.normal(0, 100, size=(M,n))\n",
    "r = 1 - np.linalg.norm(c, axis=0)\n",
    "\n",
    "# Projection operator and VI mapping, with its Liptshitz constant\n",
    "P = lambda x: np.where(\n",
    "    np.linalg.norm(x - c) > r,\n",
    "    r*(x - c) / np.linalg.norm(x - c, axis=0),\n",
    "    x\n",
    ")\n",
    "F = lambda x: x - P(x).mean(axis=0)\n",
    "L = 10\n",
    "\n",
    "# Define the VI\n",
    "fp = VI(F, n=n)\n",
    "\n",
    "# Initial points\n",
    "x0 = [np.random.rand(n) for _ in range(2)]\n",
    "\n",
    "# Solve the VI using the available algorithms\n",
    "max_iter = 200\n",
    "for algorithm, params in cases(x0, L, excluded={\"pg\", \"cfogda\"}).items():\n",
    "    print(f\"Using: {algorithm}\")\n",
    "    sol = fp.solution(algorithm, params, max_iter, log_path=f\"examples/logs/feasibility/{algorithm}.log\")\n",
    "\n",
    "plot_results(\n",
    "    \"examples/logs/feasibility\",\n",
    "    \"examples/figs/feasibility.pdf\",\n",
    "    r\"$\\|\\mathbf{x}_k \\! - \\! \\text{proj}_{\\mathcal{S}}(\\mathbf{x}_k \\! - \\! F(\\mathbf{x}_k))\\|$\"\n",
    ")"
   ]
  },
  {
   "cell_type": "markdown",
   "id": "04902bb4-902c-47d7-9149-64da2e0d13f4",
   "metadata": {},
   "source": [
    "## Two Players Zero-Sum Game\n",
    "Many example of non-cooperative behavior between two adversarial agents can be modelled through zero-sum games. Let us consider vectors $\\mathbf{x}_i \\in \\Delta_i$ as the decision variable of the $i$-th player, with $i \\in \\{1,2\\}$, where $\\Delta_i \\subset \\mathbb{R}^{n_i}$ is the simplex constraints set defined as $\\Delta_i := \\{\\mathbf{x} \\in \\mathbb{R}^{n_i} : \\mathbf{1}^\\top \\mathbf{x} = 1\\}$, for all $i \\in \\{1,2\\}$. Let $\\mathbf{x} := \\text{col}(\\mathbf{x}_i)_{i = 1}^2$. The players try to solve the following problem\n",
    "\\begin{equation}\n",
    "    \\min_{\\mathbf{x}_1 \\in \\Delta_1} \\max_{\\mathbf{x}_2 \\in \\Delta_2} \\Phi(\\mathbf{x}_1, \\mathbf{x}_2)\n",
    "\\end{equation}\n",
    "whose (Nash) equilibrium solution is achieved for $\\mathbf{x}^*$ satisfying the following\n",
    "\\begin{equation}\n",
    "    % \\label{eq:saddle}\n",
    "    \\Phi(\\mathbf{x}^*_1, \\mathbf{x}_2) \\leq \\Phi(\\mathbf{x}^*_1, \\mathbf{x}^*_2) \\leq \\Phi(\\mathbf{x}_1, \\mathbf{x}^*_2), \\quad \\forall \\mathbf{x} \\in \\Delta_1 \\times \\Delta_2\n",
    "\\end{equation}\n",
    "For the sake of simplicity, we consider $\\Phi(\\mathbf{x}_1, \\mathbf{x}_2) := \\mathbf{x}^\\top_1 \\mathbf{H} \\mathbf{x}_2$, for some $\\mathbf{H} \\in \\mathbb{R}^{n_1 \\times n_2}$. Doing so, the equilibrium condition in the previous equation can be written as a VI, with the mapping $F : \\mathbb{R}^{n_1 + n_2} \\to \\mathbb{R}^{n_1 + n_2}$ defined as\n",
    "\\begin{equation}\n",
    "    F(\\mathbf{x}) = \\begin{bmatrix} \\mathbf{H} \\mathbf{x}_1 \\\\ -\\mathbf{H}^\\top \\mathbf{x}_2 \\end{bmatrix} = \\begin{bmatrix} & \\mathbf{H} \\\\ -\\mathbf{H}^\\top & \\end{bmatrix} \\mathbf{x}\n",
    "\\end{equation}\n",
    "and $\\mathcal{S} = \\Delta_1 \\times \\Delta_2$"
   ]
  },
  {
   "cell_type": "code",
   "execution_count": 18,
   "id": "061e8fe7-ddd8-4914-b557-a245ed8e9af6",
   "metadata": {},
   "outputs": [
    {
     "name": "stdout",
     "output_type": "stream",
     "text": [
      "Using: eg\n",
      "Using: popov\n",
      "Using: fbf\n",
      "Using: frb\n",
      "Using: prg\n",
      "Using: eag\n",
      "Using: arg\n",
      "Using: graal\n",
      "Using: agraal\n",
      "Using: hgraal_1\n"
     ]
    },
    {
     "data": {
      "image/png": "[encoded data removed]",
      "text/plain": [
       "<Figure size 350x90 with 1 Axes>"
      ]
     },
     "metadata": {},
     "output_type": "display_data"
    }
   ],
   "source": [
    "np.random.seed(2024)\n",
    "\n",
    "n1, n2 = 50, 50\n",
    "\n",
    "# Game matrix \n",
    "H = np.random.rand(n1, n2)\n",
    "H_block = np.block([\n",
    "    [np.zeros((n1,n2)), H                ],\n",
    "    [-H.T,              np.zeros((n1,n2))]\n",
    "])\n",
    "\n",
    "# VI operators with Liptshitz constant\n",
    "F = lambda x: H_block@x\n",
    "L = np.linalg.norm(H_block, 2)\n",
    "\n",
    "# Simplex constraints' set\n",
    "x = cp.Variable(n1 + n2)\n",
    "S = [\n",
    "    cp.sum(x[:n1]) == 1,\n",
    "    cp.sum(x[n1:]) == 1\n",
    "]\n",
    "\n",
    "# Define the two-players zero sum game as a Variational Inequality\n",
    "tpzsg = VI(F, S=S)\n",
    "\n",
    "# Create two initial (feasible) points\n",
    "x0 = []\n",
    "for i in range(2):\n",
    "    x0.append(np.random.rand(n1 + n2)) \n",
    "    x0[i][:n1] /= x0[i][:n1].sum()\n",
    "    x0[i][n1:] /= x0[i][n1:].sum()\n",
    "\n",
    "# Solve the VI using the available algorithms\n",
    "max_iter = 200\n",
    "for algorithm, params in cases(x0, L, excluded={\"pg\", \"fogda\"}).items():\n",
    "    print(f\"Using: {algorithm}\")\n",
    "    sol = tpzsg.solution(algorithm, params, max_iter, log_path=f\"examples/logs/zero-sum-game/{algorithm}.log\")\n",
    "\n",
    "# Plot the results\n",
    "plot_results(\n",
    "    \"examples/logs/zero-sum-game\",\n",
    "    \"examples/figs/zero-sum-game.pdf\",\n",
    "    r\"$\\|\\mathbf{x}_k \\! - \\! \\text{proj}_{\\mathcal{S}}(\\mathbf{x}_k \\! - \\! F(\\mathbf{x}_k))\\|$\"\n",
    ")"
   ]
  },
  {
   "cell_type": "markdown",
   "id": "ea85fae7-2093-4ada-b617-ef0d73267fbb",
   "metadata": {},
   "source": [
    "## Sparse logistic regression\n",
    "Consider a dataset of $M$ rows and $N$ columns, so that $\\mathbf{A} = \\text{col}(\\mathbf{a}^\\top_i)_{i =1}^M \\in \\mathbb{R}^{M \\times N}$ is the dataset matrix, and $\\mathbf{a}_i \\in \\mathbb{R}^{N}$ is the $i$-th features vector for the $i$-th dataset row. Moreover, let $\\mathbf{b} \\in \\mathbb{R}^M$ be the target vector, so that $b_i \\in \\{-1,1\\}$ is the (binary) ground truth for the $i$-th data entry. \n",
    "The sparse logistic regression consists of finding the weight vector $\\mathbf{x} \\in \\mathbb{R}^N$ that minimizes the following loss function \n",
    "$$\n",
    "\\begin{equation}\n",
    "\\begin{split}\n",
    "f(\\mathbf{x}) := \\sum_{i = 1}^M \\log\\left(1 + \\frac{1}{\\exp(b_i \\mathbf{a}^\\top_i \\mathbf{x})} \\right) + \\gamma \\|\\mathbf{x}\\|_1\n",
    "\\\\ = \\underbrace{\\mathbf{1}^\\top_M \\log(1 + \\exp(-\\mathbf{b} \\odot \\mathbf{A} \\mathbf{x}))}_{=:s(\\mathbf{x})} + \\underbrace{\\gamma \\|\\mathbf{x}\\|_1}_{=:g(\\mathbf{x})}\n",
    "\\end{split}\n",
    "\\end{equation}\n",
    "$$\n",
    "where $\\gamma \\in \\mathbb{R}_{> 0}$ is the $\\ell_1$-regulation strength. The gradient for $s(\\cdot)$, $\\nabla s_\\mathbf{x}(\\mathbf{x})$, is calculated as\n",
    "$$\n",
    "\\begin{align}\n",
    "    F(\\mathbf{x}) &= \\nabla s_\\mathbf{x}(\\mathbf{x}) = -\\frac{\\mathbf{A}^\\top \\odot (\\mathbf{1}_N \\otimes \\mathbf{b}^\\top) \\odot \\exp(-\\mathbf{b} \\odot \\mathbf{A} \\mathbf{x})}{1 + \\exp(-\\mathbf{b} \\odot \\mathbf{A} \\mathbf{x})} \\mathbf{1}_M\n",
    "\\end{align}\n",
    "$$"
   ]
  },
  {
   "cell_type": "code",
   "execution_count": 14,
   "id": "45e542b9-01f6-4d7e-8bec-b777c2b3c8ee",
   "metadata": {},
   "outputs": [
    {
     "name": "stdout",
     "output_type": "stream",
     "text": [
      "Using: eg\n",
      "Using: popov\n",
      "Using: fbf\n",
      "Using: frb\n",
      "Using: prg\n",
      "Using: eag\n",
      "Using: arg\n",
      "Using: fogda\n",
      "Using: graal\n",
      "Using: agraal\n",
      "Using: hgraal_1\n"
     ]
    },
    {
     "data": {
      "image/png": "[encoded data removed]",
      "text/plain": [
       "<Figure size 350x90 with 1 Axes>"
      ]
     },
     "metadata": {},
     "output_type": "display_data"
    }
   ],
   "source": [
    "np.random.seed(2024)\n",
    "\n",
    "N, M = 500, 200\n",
    "\n",
    "# Train matrix, target vector, and regularization strength\n",
    "A = np.random.normal(size=(M,N))\n",
    "b = np.random.choice([-1,1], size=M)\n",
    "gamma = 0.005*np.linalg.norm(A.T@b, np.inf)\n",
    "\n",
    "# VI mapping\n",
    "F = lambda x: -np.sum(\n",
    "    (A.T*np.tile(b, (N,1)))*np.exp(-b*(A@x)) / (1 + np.exp(-b*(A@x))),\n",
    "    axis=1\n",
    ")\n",
    "x = cp.Variable(N)\n",
    "g = gamma*cp.norm(x, 1)\n",
    "L = 2\n",
    "\n",
    "# Define the VI problem\n",
    "slr = VI(F, g)\n",
    "\n",
    "# Initial points\n",
    "x0 = [np.random.rand(N) for _ in range(2)]\n",
    "\n",
    "# Solve the VI using the available algorithms\n",
    "max_iter = 200\n",
    "for algorithm, params in cases(x0, L, excluded={\"pg\"}).items():\n",
    "    print(f\"Using: {algorithm}\")\n",
    "    sol = slr.solution(algorithm, params, max_iter, log_path=f\"examples/logs/logistic-regression/{algorithm}.log\")\n",
    "\n",
    "# Plot the results\n",
    "plot_results(\n",
    "    \"examples/logs/logistic-regression\",\n",
    "    \"examples/figs/logistic-regression.pdf\",\n",
    "    r\"$\\|\\mathbf{x}_k \\! - \\! \\text{proj}_{\\mathcal{S}}(\\mathbf{x}_k \\! - \\! F(\\mathbf{x}_k))\\|$\"\n",
    ")"
   ]
  },
  {
   "cell_type": "markdown",
   "id": "7040120b",
   "metadata": {},
   "source": [
    "## Skew-symmetric operator\n",
    "A simple example of monotone operator that is not (even locally) strongly monotone is the skewed-symmetric operator, $F : \\mathbb{R}^{MN} \\to \\mathbb{R}^{MN}$, which is described as follows\n",
    "```math\n",
    "    F(\\mathbf{x}) = \\begin{bmatrix} \\mathbf{A}_1 & & \\\\ & \\ddots & \\\\ & & \\mathbf{A}_M \\end{bmatrix} \\mathbf{x}\n",
    "```\n",
    "for a given $M \\in \\mathbb{N}$, where $\\mathbf{A}_i = \\text{tril}(\\mathbf{B}_i) - \\text{triu}(\\mathbf{B}_i)$, for some arbitrary $0 \\preceq \\mathbf{B}_i \\in \\mathbb{R}^{N \\times N}$, for all $i = 1, \\dots, M$. "
   ]
  },
  {
   "cell_type": "code",
   "execution_count": 17,
   "id": "e6374f54",
   "metadata": {},
   "outputs": [
    {
     "name": "stdout",
     "output_type": "stream",
     "text": [
      "Using: eg\n",
      "Using: popov\n",
      "Using: fbf\n",
      "Using: frb\n",
      "Using: prg\n",
      "Using: eag\n",
      "Using: arg\n",
      "Using: fogda\n",
      "Using: graal\n",
      "Using: agraal\n",
      "Using: hgraal_1\n"
     ]
    },
    {
     "data": {
      "image/png": "[encoded data removed]",
      "text/plain": [
       "<Figure size 350x90 with 1 Axes>"
      ]
     },
     "metadata": {},
     "output_type": "display_data"
    }
   ],
   "source": [
    "np.random.rand(2024)\n",
    "\n",
    "M, N =  20, 10\n",
    "\n",
    "# Create the problem variables\n",
    "Bs = []\n",
    "for _ in range(M):\n",
    "    B = np.random.rand(N,N)\n",
    "    B = (B + B.T)/2 # Make symmetric\n",
    "\n",
    "    # Make positive semidefinite (through Gershgorin circle theorem)\n",
    "    B += np.diag(((1 - I(N))*B).sum(axis=1)) \n",
    "    Bs.append(B)\n",
    "    \n",
    "A = sp.linalg.block_diag(*[np.tril(B) - np.triu(B) for B in Bs])\n",
    "\n",
    "F = lambda x: A@x\n",
    "L = np.linalg.norm(A, 2)\n",
    "\n",
    "# Create the VI and the initial solution(s)\n",
    "sso = VI(F, n=N*M)\n",
    "x0 = [np.random.rand(N*M) for _ in range(2)]\n",
    "\n",
    "# Solve the VI using the available algorithms\n",
    "max_iter = 200\n",
    "for algorithm, params in cases(x0, L, excluded={\"pg\"}).items():\n",
    "    print(f\"Using: {algorithm}\")\n",
    "    sol = sso.solution(\n",
    "        algorithm, params, max_iter, eval_func=lambda x: np.linalg.norm(F(x), 2),\n",
    "        log_path=f\"examples/logs/skew-symmetric/{algorithm}.log\"\n",
    "    )\n",
    "\n",
    "# Plot the results\n",
    "plot_results(\n",
    "    \"examples/logs/skew-symmetric\",\n",
    "    \"examples/figs/skew-symmetric.pdf\",\n",
    "    r\"$\\|F(\\mathbf{x}_k))\\|$\"\n",
    ")"
   ]
  }
 ],
 "metadata": {
  "kernelspec": {
   "display_name": "base",
   "language": "python",
   "name": "python3"
  },
  "language_info": {
   "codemirror_mode": {
    "name": "ipython",
    "version": 3
   },
   "file_extension": ".py",
   "mimetype": "text/x-python",
   "name": "python",
   "nbconvert_exporter": "python",
   "pygments_lexer": "ipython3",
   "version": "3.12.2"
  }
 },
 "nbformat": 4,
 "nbformat_minor": 5
}
